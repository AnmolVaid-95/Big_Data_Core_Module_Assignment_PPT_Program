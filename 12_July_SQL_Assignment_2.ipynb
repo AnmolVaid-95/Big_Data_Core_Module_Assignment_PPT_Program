{
  "nbformat": 4,
  "nbformat_minor": 0,
  "metadata": {
    "colab": {
      "provenance": []
    },
    "kernelspec": {
      "name": "python3",
      "display_name": "Python 3"
    },
    "language_info": {
      "name": "python"
    }
  },
  "cells": [
    {
      "cell_type": "markdown",
      "source": [
        "**1. Write an SQL query to retrieve the names and email addresses of all employees from a table named \"Employees\".**"
      ],
      "metadata": {
        "id": "U60dltgTQwpy"
      }
    },
    {
      "cell_type": "code",
      "execution_count": null,
      "metadata": {
        "id": "XNTC01YrQs-k"
      },
      "outputs": [],
      "source": [
        "SELECT name, email\n",
        "FROM Employees;"
      ]
    },
    {
      "cell_type": "markdown",
      "source": [
        "**2. Write an SQL query to filter records from a table named \"Customers\" where the \"City\" column is 'New York'.**"
      ],
      "metadata": {
        "id": "7XScvkJdREwu"
      }
    },
    {
      "cell_type": "code",
      "source": [
        "SELECT *\n",
        "FROM Customers\n",
        "WHERE City = 'New York';"
      ],
      "metadata": {
        "id": "jiJNchLaQtxb"
      },
      "execution_count": null,
      "outputs": []
    },
    {
      "cell_type": "markdown",
      "source": [
        "**3. Write an SQL query to sort records in descending order based on the \"DateOfBirth\" column in a table named \"Users\".**"
      ],
      "metadata": {
        "id": "CuzuCX1mRSmz"
      }
    },
    {
      "cell_type": "code",
      "source": [
        "SELECT *\n",
        "FROM Users\n",
        "ORDER BY DateOfBirth DESC"
      ],
      "metadata": {
        "id": "1IPx52Z-Qtzz"
      },
      "execution_count": null,
      "outputs": []
    },
    {
      "cell_type": "markdown",
      "source": [
        "**4. Write an SQL query to sort records in ascending order based on the \"RegistrationDate\" column in a table named \"Users\".**"
      ],
      "metadata": {
        "id": "h5jQ3ZjARuMV"
      }
    },
    {
      "cell_type": "code",
      "source": [
        "SELECT *\n",
        "FROM Users\n",
        "ORDER BY RegistrationDate"
      ],
      "metadata": {
        "id": "OoURAUjKQt2E"
      },
      "execution_count": null,
      "outputs": []
    },
    {
      "cell_type": "markdown",
      "source": [
        "**5. Write an SQL query to find the employee with the highest salary from a table named \"Employees\" and display their name, position, and salary.**"
      ],
      "metadata": {
        "id": "kRqwYmiyR9K1"
      }
    },
    {
      "cell_type": "code",
      "source": [
        "SELECT name, position, salary\n",
        "FROM Employees\n",
        "WHERE salary = (SELECT MAX(salary) FROM Employees);"
      ],
      "metadata": {
        "id": "4C3AzJ9vQt43"
      },
      "execution_count": null,
      "outputs": []
    },
    {
      "cell_type": "markdown",
      "source": [
        "**6. Write an SQL query to retrieve records from a table named \"Customers\" where the \"Phone\" column matches the pattern '+1-XXX-XXX-XXXX'.**"
      ],
      "metadata": {
        "id": "y4Gud1dtSHSj"
      }
    },
    {
      "cell_type": "code",
      "source": [
        "SELECT *\n",
        "FROM Customers\n",
        "WHERE Phone LIKE '+1-___-___-____';"
      ],
      "metadata": {
        "id": "5Bj7duA0Qt7Q"
      },
      "execution_count": null,
      "outputs": []
    },
    {
      "cell_type": "markdown",
      "source": [
        "**7. Write an SQL query to retrieve the top 5 customers with the highest total purchase amount from a table named \"Orders\" and display their names and total purchase amounts.**"
      ],
      "metadata": {
        "id": "4TCyBzjGSRK4"
      }
    },
    {
      "cell_type": "code",
      "source": [
        "SELECT CustomerName, SUM(PurchaseAmount) AS TotalPurchaseAmount\n",
        "FROM Orders\n",
        "GROUP BY CustomerName\n",
        "ORDER BY TotalPurchaseAmount DESC\n",
        "LIMIT 5;"
      ],
      "metadata": {
        "id": "M50ndKXIQt9w"
      },
      "execution_count": null,
      "outputs": []
    },
    {
      "cell_type": "markdown",
      "source": [
        "**8. Write an SQL query to calculate the percentage of sales for each product category in a table named \"Sales\" and display the category name, total sales amount, and the percentage of total sales.**"
      ],
      "metadata": {
        "id": "bqJdGqmGSb_C"
      }
    },
    {
      "cell_type": "code",
      "source": [
        "SELECT\n",
        "    CategoryName,\n",
        "    SUM(SalesAmount) AS TotalSalesAmount,\n",
        "    (SUM(SalesAmount) / (SELECT SUM(SalesAmount) FROM Sales)) * 100 AS PercentageOfTotalSales\n",
        "FROM\n",
        "    Sales\n",
        "GROUP BY\n",
        "    CategoryName;"
      ],
      "metadata": {
        "id": "p4QnswkCQuAO"
      },
      "execution_count": null,
      "outputs": []
    },
    {
      "cell_type": "markdown",
      "source": [
        "**9. Write an SQL query to find the customers who have made the highest total purchases across all years from a table named \"Orders\" and display their names, email addresses, and the total purchase amount.**"
      ],
      "metadata": {
        "id": "WQSHFatsTORS"
      }
    },
    {
      "cell_type": "code",
      "source": [
        "SELECT\n",
        "    CustomerName,\n",
        "    Email,\n",
        "    SUM(PurchaseAmount) AS TotalPurchaseAmount\n",
        "FROM\n",
        "    Orders\n",
        "GROUP BY\n",
        "    CustomerName, Email\n",
        "HAVING\n",
        "    SUM(PurchaseAmount) = (\n",
        "        SELECT\n",
        "            MAX(TotalPurchaseAmount)\n",
        "        FROM\n",
        "            (\n",
        "                SELECT\n",
        "                    CustomerName,\n",
        "                    Email,\n",
        "                    SUM(PurchaseAmount) AS TotalPurchaseAmount\n",
        "                FROM\n",
        "                    Orders\n",
        "                GROUP BY\n",
        "                    CustomerName, Email\n",
        "            ) AS subquery\n",
        "    );"
      ],
      "metadata": {
        "id": "mIgHHrjbQuCs"
      },
      "execution_count": null,
      "outputs": []
    }
  ]
}