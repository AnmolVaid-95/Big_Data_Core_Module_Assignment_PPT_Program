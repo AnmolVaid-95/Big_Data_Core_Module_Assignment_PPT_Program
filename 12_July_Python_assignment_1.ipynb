{
  "nbformat": 4,
  "nbformat_minor": 0,
  "metadata": {
    "colab": {
      "provenance": []
    },
    "kernelspec": {
      "name": "python3",
      "display_name": "Python 3"
    },
    "language_info": {
      "name": "python"
    }
  },
  "cells": [
    {
      "cell_type": "markdown",
      "source": [
        "**1. Write a Python program to check if a given string is an anagram.**"
      ],
      "metadata": {
        "id": "uKss57oJNvG4"
      }
    },
    {
      "cell_type": "code",
      "source": [
        "def is_anagram(str1, str2):\n",
        "    # Remove any spaces and convert strings to lowercase\n",
        "    str1 = str1.replace(' ', '').lower()\n",
        "    str2 = str2.replace(' ', '').lower()\n",
        "\n",
        "    # Check if the lengths of the strings are equal\n",
        "    if len(str1) != len(str2):\n",
        "        return False\n",
        "\n",
        "    # Create dictionaries to store character frequencies\n",
        "    char_freq1 = {}\n",
        "    char_freq2 = {}\n",
        "\n",
        "    # Count the frequency of each character in the first string\n",
        "    for char in str1:\n",
        "        char_freq1[char] = char_freq1.get(char, 0) + 1\n",
        "\n",
        "    # Count the frequency of each character in the second string\n",
        "    for char in str2:\n",
        "        char_freq2[char] = char_freq2.get(char, 0) + 1\n",
        "\n",
        "    # Compare the dictionaries\n",
        "    return char_freq1 == char_freq2\n",
        "\n",
        "\n",
        "# Example usage\n",
        "str1 = \"listen\"\n",
        "str2 = \"silent\"\n",
        "if is_anagram(str1, str2):\n",
        "    print(f\"{str1} and {str2} are anagrams.\")\n",
        "else:\n",
        "    print(f\"{str1} and {str2} are not anagrams.\")\n"
      ],
      "metadata": {
        "colab": {
          "base_uri": "https://localhost:8080/"
        },
        "id": "I0PjqsjSNt4X",
        "outputId": "ee73f931-4b32-4c2d-dc60-05b450aea872"
      },
      "execution_count": 1,
      "outputs": [
        {
          "output_type": "stream",
          "name": "stdout",
          "text": [
            "listen and silent are anagrams.\n"
          ]
        }
      ]
    },
    {
      "cell_type": "markdown",
      "source": [
        "**2. Write a Python program to find the maximum and minimum values in a\n",
        "dictionary.**"
      ],
      "metadata": {
        "id": "wTegAhPPN-0r"
      }
    },
    {
      "cell_type": "code",
      "source": [
        "def find_max_min_values(dictionary):\n",
        "    if not dictionary:\n",
        "        return None, None\n",
        "\n",
        "    # Get the values from the dictionary\n",
        "    values = dictionary.values()\n",
        "\n",
        "    # Find the maximum and minimum values\n",
        "    max_value = max(values)\n",
        "    min_value = min(values)\n",
        "\n",
        "    return max_value, min_value\n",
        "\n",
        "\n",
        "# Example usage\n",
        "my_dict = {'a': 5, 'b': 10, 'c': 3, 'd': 8}\n",
        "max_val, min_val = find_max_min_values(my_dict)\n",
        "\n",
        "if max_val is not None and min_val is not None:\n",
        "    print(\"Maximum value:\", max_val)\n",
        "    print(\"Minimum value:\", min_val)\n",
        "else:\n",
        "    print(\"The dictionary is empty.\")\n"
      ],
      "metadata": {
        "colab": {
          "base_uri": "https://localhost:8080/"
        },
        "id": "5DM25qadNtsv",
        "outputId": "5aa7b43f-22e6-42fc-d7d3-d5b274eeef85"
      },
      "execution_count": 2,
      "outputs": [
        {
          "output_type": "stream",
          "name": "stdout",
          "text": [
            "Maximum value: 10\n",
            "Minimum value: 3\n"
          ]
        }
      ]
    },
    {
      "cell_type": "markdown",
      "source": [
        "**3. Write a Python program to find the average of a list of numbers.**"
      ],
      "metadata": {
        "id": "DHIMXruvOaew"
      }
    },
    {
      "cell_type": "code",
      "source": [
        "def calculate_average(numbers):\n",
        "    if not numbers:\n",
        "        return None\n",
        "\n",
        "    total = sum(numbers)\n",
        "    average = total / len(numbers)\n",
        "    return average\n",
        "\n",
        "\n",
        "# Example usage\n",
        "my_list = [5, 10, 15, 20, 25]\n",
        "avg = calculate_average(my_list)\n",
        "\n",
        "if avg is not None:\n",
        "    print(\"Average:\", avg)\n",
        "else:\n",
        "    print(\"The list is empty.\")\n"
      ],
      "metadata": {
        "colab": {
          "base_uri": "https://localhost:8080/"
        },
        "id": "H5O-_ByyNtLM",
        "outputId": "f40fd594-d9ea-4bd4-ad4a-ee8afe7bd4d6"
      },
      "execution_count": 3,
      "outputs": [
        {
          "output_type": "stream",
          "name": "stdout",
          "text": [
            "Average: 15.0\n"
          ]
        }
      ]
    },
    {
      "cell_type": "markdown",
      "source": [
        "**4. Write a Python program to remove all vowels from a string.**"
      ],
      "metadata": {
        "id": "C84YC7VFOoC0"
      }
    },
    {
      "cell_type": "code",
      "execution_count": 4,
      "metadata": {
        "colab": {
          "base_uri": "https://localhost:8080/"
        },
        "id": "1Dp46HqHNqa3",
        "outputId": "6ed078b8-a66b-4770-967c-ac947632c613"
      },
      "outputs": [
        {
          "output_type": "stream",
          "name": "stdout",
          "text": [
            "String without vowels: Hll, Wrld!\n"
          ]
        }
      ],
      "source": [
        "def remove_vowels(string):\n",
        "    vowels = 'aeiouAEIOU'\n",
        "    without_vowels = ''\n",
        "\n",
        "    for char in string:\n",
        "        if char not in vowels:\n",
        "            without_vowels += char\n",
        "\n",
        "    return without_vowels\n",
        "\n",
        "\n",
        "# Example usage\n",
        "my_string = \"Hello, World!\"\n",
        "result = remove_vowels(my_string)\n",
        "print(\"String without vowels:\", result)\n"
      ]
    },
    {
      "cell_type": "markdown",
      "source": [
        "**5. Write a Python function to calculate the factorial of a number using recursion.**"
      ],
      "metadata": {
        "id": "LL6191MSO4bE"
      }
    },
    {
      "cell_type": "code",
      "source": [
        "def factorial_recursive(n):\n",
        "    # Base case: factorial of 0 or 1 is 1\n",
        "    if n == 0 or n == 1:\n",
        "        return 1\n",
        "    else:\n",
        "        # Recursive case: factorial of n is n times factorial of (n-1)\n",
        "        return n * factorial_recursive(n - 1)\n",
        "\n",
        "\n",
        "# Example usage\n",
        "num = 5\n",
        "factorial = factorial_recursive(num)\n",
        "print(f\"The factorial of {num} is: {factorial}\")\n"
      ],
      "metadata": {
        "colab": {
          "base_uri": "https://localhost:8080/"
        },
        "id": "QbVUmhu3Osnp",
        "outputId": "306e2ea1-7315-4b54-9d4c-1b07fbf95e3e"
      },
      "execution_count": 5,
      "outputs": [
        {
          "output_type": "stream",
          "name": "stdout",
          "text": [
            "The factorial of 5 is: 120\n"
          ]
        }
      ]
    },
    {
      "cell_type": "markdown",
      "source": [
        "**6. Write a Python program to merge two unsorted lists into a single sorted list\n",
        "using the merge sort algorithm.**"
      ],
      "metadata": {
        "id": "rZLvMmo3PIL6"
      }
    },
    {
      "cell_type": "code",
      "source": [
        "def merge_sort(arr):\n",
        "    if len(arr) <= 1:\n",
        "        return arr\n",
        "\n",
        "    # Divide the array into two halves\n",
        "    mid = len(arr) // 2\n",
        "    left_half = arr[:mid]\n",
        "    right_half = arr[mid:]\n",
        "\n",
        "    # Recursively sort the two halves\n",
        "    left_half = merge_sort(left_half)\n",
        "    right_half = merge_sort(right_half)\n",
        "\n",
        "    # Merge the sorted halves\n",
        "    return merge(left_half, right_half)\n",
        "\n",
        "\n",
        "def merge(left, right):\n",
        "    merged = []\n",
        "    left_index = 0\n",
        "    right_index = 0\n",
        "\n",
        "    # Compare elements from both lists and add the smaller one to the merged list\n",
        "    while left_index < len(left) and right_index < len(right):\n",
        "        if left[left_index] <= right[right_index]:\n",
        "            merged.append(left[left_index])\n",
        "            left_index += 1\n",
        "        else:\n",
        "            merged.append(right[right_index])\n",
        "            right_index += 1\n",
        "\n",
        "    # Add the remaining elements from the left list\n",
        "    while left_index < len(left):\n",
        "        merged.append(left[left_index])\n",
        "        left_index += 1\n",
        "\n",
        "    # Add the remaining elements from the right list\n",
        "    while right_index < len(right):\n",
        "        merged.append(right[right_index])\n",
        "        right_index += 1\n",
        "\n",
        "    return merged\n",
        "\n",
        "\n",
        "# Example usage\n",
        "list1 = [4, 2, 8, 5, 1]\n",
        "list2 = [7, 3, 6, 9, 0]\n",
        "merged_list = merge_sort(list1 + list2)\n",
        "\n",
        "print(\"Merged and sorted list:\", merged_list)\n"
      ],
      "metadata": {
        "colab": {
          "base_uri": "https://localhost:8080/"
        },
        "id": "klMY2SGMOs0u",
        "outputId": "5766864f-b0c8-4e1c-84a6-ff59670728ad"
      },
      "execution_count": 6,
      "outputs": [
        {
          "output_type": "stream",
          "name": "stdout",
          "text": [
            "Merged and sorted list: [0, 1, 2, 3, 4, 5, 6, 7, 8, 9]\n"
          ]
        }
      ]
    },
    {
      "cell_type": "markdown",
      "source": [
        "**7. Write a Python program to find the GCD (Greatest Common Divisor) of two\n",
        "numbers.**"
      ],
      "metadata": {
        "id": "rfRV4eXrPcRA"
      }
    },
    {
      "cell_type": "code",
      "source": [
        "def find_gcd(a, b):\n",
        "    # Ensure a is greater than or equal to b\n",
        "    if b > a:\n",
        "        a, b = b, a\n",
        "\n",
        "    while b != 0:\n",
        "        remainder = a % b\n",
        "        a = b\n",
        "        b = remainder\n",
        "\n",
        "    return a\n",
        "\n",
        "\n",
        "# Example usage\n",
        "num1 = 24\n",
        "num2 = 36\n",
        "gcd = find_gcd(num1, num2)\n",
        "print(f\"The GCD of {num1} and {num2} is: {gcd}\")\n"
      ],
      "metadata": {
        "colab": {
          "base_uri": "https://localhost:8080/"
        },
        "id": "XF_-Q8f5Os4K",
        "outputId": "d3cac4ef-bca4-46b6-e3c9-450ac041b0d7"
      },
      "execution_count": 7,
      "outputs": [
        {
          "output_type": "stream",
          "name": "stdout",
          "text": [
            "The GCD of 24 and 36 is: 12\n"
          ]
        }
      ]
    },
    {
      "cell_type": "markdown",
      "source": [
        "**8. Write a Python program to find the second-largest element in a list.**"
      ],
      "metadata": {
        "id": "SwnbSNDpPry8"
      }
    },
    {
      "cell_type": "code",
      "source": [
        "def find_second_largest(lst):\n",
        "    if len(lst) < 2:\n",
        "        return None\n",
        "\n",
        "    largest = max(lst[0], lst[1])\n",
        "    second_largest = min(lst[0], lst[1])\n",
        "\n",
        "    for i in range(2, len(lst)):\n",
        "        if lst[i] > largest:\n",
        "            second_largest = largest\n",
        "            largest = lst[i]\n",
        "        elif lst[i] > second_largest and lst[i] < largest:\n",
        "            second_largest = lst[i]\n",
        "\n",
        "    return second_largest\n",
        "\n",
        "\n",
        "# Example usage\n",
        "my_list = [10, 5, 15, 8, 12]\n",
        "second_largest = find_second_largest(my_list)\n",
        "\n",
        "if second_largest is not None:\n",
        "    print(\"Second largest element:\", second_largest)\n",
        "else:\n",
        "    print(\"List has less than two elements.\")\n"
      ],
      "metadata": {
        "colab": {
          "base_uri": "https://localhost:8080/"
        },
        "id": "yc7decA8PhPL",
        "outputId": "e6f5d004-bb86-4152-8368-df6513b1cb6f"
      },
      "execution_count": 8,
      "outputs": [
        {
          "output_type": "stream",
          "name": "stdout",
          "text": [
            "Second largest element: 12\n"
          ]
        }
      ]
    },
    {
      "cell_type": "markdown",
      "source": [
        "**9. Write a Python program to find the longest common subsequence between two\n",
        "strings using dynamic programming.**"
      ],
      "metadata": {
        "id": "XvLvVwSlP0G0"
      }
    },
    {
      "cell_type": "code",
      "source": [
        "def find_lcs(str1, str2):\n",
        "    # Create a table to store the lengths of LCS for substrings\n",
        "    table = [[0] * (len(str2) + 1) for _ in range(len(str1) + 1)]\n",
        "\n",
        "    # Fill the table bottom-up\n",
        "    for i in range(1, len(str1) + 1):\n",
        "        for j in range(1, len(str2) + 1):\n",
        "            if str1[i - 1] == str2[j - 1]:\n",
        "                table[i][j] = table[i - 1][j - 1] + 1\n",
        "            else:\n",
        "                table[i][j] = max(table[i - 1][j], table[i][j - 1])\n",
        "\n",
        "    # Retrieve the LCS from the table\n",
        "    lcs = ''\n",
        "    i, j = len(str1), len(str2)\n",
        "    while i > 0 and j > 0:\n",
        "        if str1[i - 1] == str2[j - 1]:\n",
        "            lcs = str1[i - 1] + lcs\n",
        "            i -= 1\n",
        "            j -= 1\n",
        "        elif table[i - 1][j] > table[i][j - 1]:\n",
        "            i -= 1\n",
        "        else:\n",
        "            j -= 1\n",
        "\n",
        "    return lcs\n",
        "\n",
        "\n",
        "# Example usage\n",
        "string1 = \"AGGTAB\"\n",
        "string2 = \"GXTXAYB\"\n",
        "lcs = find_lcs(string1, string2)\n",
        "print(\"Longest Common Subsequence:\", lcs)\n"
      ],
      "metadata": {
        "colab": {
          "base_uri": "https://localhost:8080/"
        },
        "id": "BJSt78y_PhXE",
        "outputId": "380ba8c0-6411-4fe4-da3d-464d67ac7acd"
      },
      "execution_count": 9,
      "outputs": [
        {
          "output_type": "stream",
          "name": "stdout",
          "text": [
            "Longest Common Subsequence: GTAB\n"
          ]
        }
      ]
    },
    {
      "cell_type": "code",
      "source": [],
      "metadata": {
        "id": "08MY9FVRPhc4"
      },
      "execution_count": null,
      "outputs": []
    }
  ]
}